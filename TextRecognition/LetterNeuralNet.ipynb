{
 "cells": [
  {
   "cell_type": "markdown",
   "source": [
    "# Image classification model\n",
    "\n",
    "The following Jupyter Notebooks showcases a letter classification model, which was trained on the english alphabet."
   ],
   "metadata": {
    "collapsed": false
   }
  },
  {
   "cell_type": "markdown",
   "source": [
    "## Prerequisites\n",
    "For executing the notebook, multiple packages are required. Additionally, the following package from this GitHub repo is required to run `summary(model,...)`\n",
    "`$ pip install torchsummary` or `git clone https://github.com/sksq96/pytorch-summary`. This package is used to display the model in a similar way to Keras"
   ],
   "metadata": {
    "collapsed": false
   }
  },
  {
   "cell_type": "markdown",
   "source": [
    "The following packages are used in **ImageTransferLearning.py**:"
   ],
   "metadata": {
    "collapsed": false
   }
  },
  {
   "cell_type": "code",
   "execution_count": null,
   "outputs": [],
   "source": [
    "import torch.nn as nn\n",
    "import torch.nn.functional as F\n",
    "import torchvision\n",
    "import torchvision.transforms as transforms\n",
    "from torch.utils.data import Dataset\n",
    "############## TENSORBOARD ########################\n",
    "from torch.utils.tensorboard import SummaryWriter\n",
    "###################################################\n",
    "############## CUSTOM PACKAGE #####################\n",
    "from HelperFunctions.HelperPhases import *\n",
    "###################################################"
   ],
   "metadata": {
    "collapsed": false,
    "pycharm": {
     "name": "#%%\n"
    }
   }
  },
  {
   "cell_type": "markdown",
   "source": [
    "The custom package **HelperFunctions.HelperPhases** consists of the following imports:"
   ],
   "metadata": {
    "collapsed": false
   }
  },
  {
   "cell_type": "code",
   "execution_count": 15,
   "outputs": [],
   "source": [
    "import torch\n",
    "from sklearn.metrics import confusion_matrix\n",
    "import pandas as pd\n",
    "import numpy as np\n",
    "import seaborn as sn\n",
    "from matplotlib import pyplot as plt\n",
    "############## PROGESS BAR ########################\n",
    "import sys\n",
    "import time\n",
    "###################################################"
   ],
   "metadata": {
    "collapsed": false,
    "pycharm": {
     "name": "#%%\n"
    }
   }
  },
  {
   "cell_type": "markdown",
   "source": [
    "## Model"
   ],
   "metadata": {
    "collapsed": false
   }
  },
  {
   "cell_type": "code",
   "execution_count": 16,
   "outputs": [],
   "source": [
    "from LetterNeuralNet import *"
   ],
   "metadata": {
    "collapsed": false,
    "pycharm": {
     "name": "#%%\n"
    }
   }
  },
  {
   "cell_type": "markdown",
   "source": [
    "### model parameters\n",
    "* `device`: device on which the tensors are being processed for example: \"cuda\", \"cpu\", \"dml\"\n",
    "* `confusionmatrixdevice`: device on which the tensors are being processed for creating the confusionmatrix example: \"cuda\", \"cpu\", \"dml\"\n",
    "* `all_classes`: list of all possible classes\n",
    "* `DATASETPATH`: path of the EMNIST dataset\n",
    "* `MODELFOLDER`: folder path of the model. This model folder is used for loading and saving the trained model\n",
    "* `num_epochs`: number of training epochs\n",
    "* `batch_size`: number of color samples used per training/testing step\n",
    "* `learning_rate`: base learning rate\n",
    "* `num_workers`: number of used workers for the dataloader\n",
    "* `pin_memory`: boolean type to use pinned memory, which helps in reducing the loading time of the dataloader\n",
    "* `load_model_from_file`: parameter to determine if the model should be loaded --> 1 == true & 0 == false\n",
    "* `save_trained_model`: parameter to determine if the model should be saved --> 1 == true & 0 == false\n",
    "\n",
    "#### default values used for this model\n",
    "\n",
    "* The parameter `input_size = (1,28,28)` can't be changed, because the size of convolutional layers is calculated based on the given input.\n",
    "* The result of multiple tests with different `batch_size` values resulted in the following conclusion, that the value of `batch_size` needs to be equal or smaller than the classes to minimize overfitting. In this case I choose `batch_size = 26` to minimize overfitting and maximize the computation speed.\n",
    "* The parameter has the following value to minimize overfitting `learning_rate = 0.001` . By choosing a higher learning rate the model has a worse generalization of letter recognition."
   ],
   "metadata": {
    "collapsed": false
   }
  },
  {
   "cell_type": "code",
   "execution_count": 17,
   "outputs": [],
   "source": [
    "# dml only works if there is an amd gpu\n",
    "device = torch.device(\"dml\")\n",
    "confusionmatrixdevice = torch.device('cpu')\n",
    "\n",
    "all_classes = [\"A\", \"B\", \"C\", \"D\", \"E\", \"F\",\n",
    "               \"G\", \"H\", \"I\", \"J\", \"K\", \"L\",\n",
    "               \"M\", \"N\", \"O\", \"P\", \"Q\", \"R\",\n",
    "               \"S\", \"T\", \"U\", \"V\", \"W\", \"X\",\n",
    "               \"Y\", \"Z\"]\n",
    "# Paths\n",
    "DATASETPATH = 'C:/Users/matri/Desktop/Informatikprojekt/Backups/BackupNew/TextRecognition/data'\n",
    "MODELFOLDER = './Models/'\n",
    "# Parameter\n",
    "num_epochs = 10\n",
    "batch_size = 26\n",
    "learning_rate = 0.001\n",
    "num_workers = 6\n",
    "pin_memory = True"
   ],
   "metadata": {
    "collapsed": false,
    "pycharm": {
     "name": "#%%\n"
    }
   }
  },
  {
   "cell_type": "markdown",
   "source": [
    "It is important to always check if `load_model_from_file` is set to `0` before training a model, otherwise a trained model could be overwritten"
   ],
   "metadata": {
    "collapsed": false
   }
  },
  {
   "cell_type": "code",
   "execution_count": 18,
   "outputs": [],
   "source": [
    "# 1 == True ; 0 == False\n",
    "load_model_from_file = 0\n",
    "save_trained_model = 0"
   ],
   "metadata": {
    "collapsed": false,
    "pycharm": {
     "name": "#%%\n"
    }
   }
  },
  {
   "cell_type": "markdown",
   "source": [
    "If `save_trained_model` is set to `1` the user should check the following settings to **NOT** overwrite a trained model. The manual Filename setting should only be used for loading a trained model to minimize the risk of accidentally overwriting a trained model!"
   ],
   "metadata": {
    "collapsed": false
   }
  },
  {
   "cell_type": "code",
   "execution_count": 19,
   "outputs": [],
   "source": [
    "# Automatic Filename for loading and saving\n",
    "learning_rate_string = str(learning_rate).replace('.', '')\n",
    "MiddleFilename = f\"NE{num_epochs}BS{batch_size}LR{learning_rate_string}\"\n",
    "EndFilename = \".pth\"\n",
    "FILE = f\"{MODELFOLDER}LetterNeuralNet{MiddleFilename}{EndFilename}\"\n",
    "\n",
    "# Manuel Filename for loading\n",
    "# FILEPATH = \"LetterNeuralNetNE10BS26LR0001.pth\"\n",
    "# FILE = f\"{MODELFOLDER}{FILEPATH}\""
   ],
   "metadata": {
    "collapsed": false,
    "pycharm": {
     "name": "#%%\n"
    }
   }
  },
  {
   "cell_type": "markdown",
   "source": [
    "#### model creation\n",
    "For the first phase a model for letter recognition needs to be trained. The letter recognition uses a convolutional neural network with two convolutional layer and pooling layer for each convolutional layer. The input size for the model is a grayscale image of size **28x28**."
   ],
   "metadata": {
    "collapsed": false
   }
  },
  {
   "cell_type": "code",
   "execution_count": 20,
   "outputs": [],
   "source": [
    "model = ConvNet().to(device)"
   ],
   "metadata": {
    "collapsed": false,
    "pycharm": {
     "name": "#%%\n"
    }
   }
  },
  {
   "cell_type": "markdown",
   "source": [
    "#### criterion and optimizer\n",
    "I chose the cross entropy loss function, because I have a model for multilabel classification. As an optimizer I used Adam, because it is one of the popular optimizer.\n",
    "In the following code both can be changed to different ones:"
   ],
   "metadata": {
    "collapsed": false
   }
  },
  {
   "cell_type": "code",
   "execution_count": 21,
   "outputs": [],
   "source": [
    "criterion = nn.CrossEntropyLoss()\n",
    "optimizer = torch.optim.Adam(model.parameters(), lr=learning_rate)"
   ],
   "metadata": {
    "collapsed": false,
    "pycharm": {
     "name": "#%%\n"
    }
   }
  },
  {
   "cell_type": "markdown",
   "source": [
    "#### training and test data loader\n",
    "* for determining the size of `num_workers` you should never exceed the number of cores in your CPU. By increasing the size of `num_workers` to `2`, I could decrease the duration of the training phase to 85% of the duration with `num_workers = 0`. In my case that would be **5min** less in each epoch.\n",
    "Info: If the notebook throws an error with `num_workers > 0` then there could be a compatibility problem with your hardware, and you must use `num_workers = 0`"
   ],
   "metadata": {
    "collapsed": false
   }
  },
  {
   "cell_type": "code",
   "execution_count": 22,
   "outputs": [],
   "source": [
    "train_loader, test_loader = dataloaderSetup(num_workers, pin_memory)"
   ],
   "metadata": {
    "collapsed": false,
    "pycharm": {
     "name": "#%%\n"
    }
   }
  },
  {
   "cell_type": "markdown",
   "source": [
    "### Input\n",
    "The following output shows the size of each individual data:"
   ],
   "metadata": {
    "collapsed": false
   }
  },
  {
   "cell_type": "code",
   "execution_count": 23,
   "outputs": [
    {
     "name": "stdout",
     "output_type": "stream",
     "text": [
      "batch shape of letters: torch.Size([26, 1, 28, 28])\n",
      "batch shape of labels: torch.Size([26])\n"
     ]
    }
   ],
   "source": [
    "image, label = next(iter(train_loader))\n",
    "print(f\"batch shape of letters: {image.size()}\")\n",
    "print(f\"batch shape of labels: {label.size()}\")"
   ],
   "metadata": {
    "collapsed": false,
    "pycharm": {
     "name": "#%%\n"
    }
   }
  },
  {
   "cell_type": "markdown",
   "source": [
    "### Model summary\n",
    "I chose to create an own convolutional neural network, because most of the pretrained models have RGB images with size **224x224** as an input and I would need to do unnecessary modifications to the EMNIST Dataset.\n",
    "\n",
    "The following code snippet of the `ConvNet` class shows the first layers of the convolutional neural network. These two convolutional layers with each having a pooling layers are used for feature extraction from the given image.\n",
    "\n",
    "```python\n",
    "x = self.pool(F.relu(self.conv1(x)))  # -> n, 6, 12, 12\n",
    "x = self.pool(F.relu(self.conv2(x)))  # -> n, 16, 4, 4\n",
    "```\n",
    "\n",
    "After the feature extraction the graph is flattened and three linear layers are being used for the class classification.\n",
    "\n",
    "```python\n",
    "x = x.view(-1, 16 * 4 * 4)  # -> n, 256\n",
    "x = F.relu(self.fc1(x))  # -> n, 120\n",
    "x = F.relu(self.fc2(x))  # -> n, 84\n",
    "x = self.fc3(x)  # -> n, 26\n",
    "```\n",
    "\n",
    "The formulas that I used to determine the size of each convolutional layer can be found in the corresponding **READ.ME** file."
   ],
   "metadata": {
    "collapsed": false
   }
  },
  {
   "cell_type": "code",
   "execution_count": 24,
   "outputs": [
    {
     "name": "stdout",
     "output_type": "stream",
     "text": [
      "----------------------------------------------------------------\n",
      "        Layer (type)               Output Shape         Param #\n",
      "================================================================\n",
      "            Conv2d-1            [-1, 6, 24, 24]             156\n",
      "         MaxPool2d-2            [-1, 6, 12, 12]               0\n",
      "            Conv2d-3             [-1, 16, 8, 8]           2,416\n",
      "         MaxPool2d-4             [-1, 16, 4, 4]               0\n",
      "            Linear-5                  [-1, 120]          30,840\n",
      "            Linear-6                   [-1, 84]          10,164\n",
      "            Linear-7                   [-1, 26]           2,210\n",
      "================================================================\n",
      "Total params: 45,786\n",
      "Trainable params: 45,786\n",
      "Non-trainable params: 0\n",
      "----------------------------------------------------------------\n",
      "Input size (MB): 0.00\n",
      "Forward/backward pass size (MB): 0.04\n",
      "Params size (MB): 0.17\n",
      "Estimated Total Size (MB): 0.22\n",
      "----------------------------------------------------------------\n"
     ]
    },
    {
     "data": {
      "text/plain": "ConvNet(\n  (conv1): Conv2d(1, 6, kernel_size=(5, 5), stride=(1, 1))\n  (pool): MaxPool2d(kernel_size=2, stride=2, padding=0, dilation=1, ceil_mode=False)\n  (conv2): Conv2d(6, 16, kernel_size=(5, 5), stride=(1, 1))\n  (fc1): Linear(in_features=256, out_features=120, bias=True)\n  (fc2): Linear(in_features=120, out_features=84, bias=True)\n  (fc3): Linear(in_features=84, out_features=26, bias=True)\n)"
     },
     "execution_count": 24,
     "metadata": {},
     "output_type": "execute_result"
    }
   ],
   "source": [
    "from torchsummary import summary\n",
    "\n",
    "model.to(\"cpu\")\n",
    "summary(model, input_size=(1,28,28)) # function doesn't have \"dml\" as an option\n",
    "model.to(device)"
   ],
   "metadata": {
    "collapsed": false,
    "pycharm": {
     "name": "#%%\n"
    }
   }
  },
  {
   "cell_type": "markdown",
   "source": [
    "### Examples from the color dataset\n",
    "I used the EMNIST Dataset for training a generalized model for letter recognition with different fonts. The EMNIST Dataset for letters contains **145,600** images of handwritten letters. Each image is an grayscale image of size **28x28**. Every letter in the dataset is white with a black background.\n",
    "Here are some examples:"
   ],
   "metadata": {
    "collapsed": false
   }
  },
  {
   "cell_type": "code",
   "execution_count": 25,
   "outputs": [
    {
     "data": {
      "text/plain": "<Figure size 600x400 with 15 Axes>",
      "image/png": "[encoded data removed]"
     },
     "metadata": {
      "needs_background": "light"
     },
     "output_type": "display_data"
    }
   ],
   "source": [
    "columns = 5\n",
    "rows = 3\n",
    "fig, ax = plt.subplots(rows, columns, dpi=100)\n",
    "ax = ax.ravel()\n",
    "for i, (image, labels) in enumerate(train_loader):\n",
    "    if i == rows:\n",
    "        break\n",
    "    for j, (img) in enumerate(image):\n",
    "        if i*columns+j>=columns*rows:\n",
    "            break\n",
    "        np_array = img.numpy()\n",
    "        np_array = np_array.swapaxes(0, 2)\n",
    "        ax[i*columns+j].imshow(np_array, cmap=\"gray\")\n",
    "        ax[i*columns+j].set_title(all_classes[labels[j]-1]) # set title\n",
    "fig.tight_layout()\n",
    "plt.show()"
   ],
   "metadata": {
    "collapsed": false,
    "pycharm": {
     "name": "#%%\n"
    }
   }
  },
  {
   "cell_type": "markdown",
   "source": [
    "## Both Phases"
   ],
   "metadata": {
    "collapsed": false
   }
  },
  {
   "cell_type": "markdown",
   "source": [
    "### Training phase\n",
    "* `labels_start_at` is used if all labels start at 1 instead of 0\n",
    "* `print_every_x_percent` states when the current accuracy and loss gets printed and the accuracy and loss graph are updated in tensor board\n",
    "\n",
    "In the training phase of the model a progress bar with the remaining time as well as the accuracy and loss is displayed. After every epoch a confusion matrix is generated for tensor board as well as a plot visible in the outputs.\n",
    "Info: If the an image dataset with a similar size is used, then `device=\"dml\"` or `device=\"cuda\"` is fastest device for the confusion matrix as well as the training phase. If the dataset is smaller then `device=cpu` could be faster because of the tensors don't need to be moved between GPU and CPU, but in most cases the device needs to be on the GPU."
   ],
   "metadata": {
    "collapsed": false
   }
  },
  {
   "cell_type": "code",
   "execution_count": 26,
   "outputs": [
    {
     "name": "stdout",
     "output_type": "stream",
     "text": [
      "Epoch [1/1], Step [480/4800], Accuracy: 0.0383, Loss: 3.2734                                                  \n",
      "\r\n",
      "Epoch [1/1], Step [960/4800], Accuracy: 0.0373, Loss: 3.2799                                                  \n",
      "\r\n",
      "[██████████████----------------------------------------------] 23.7% ...remaining Time: 174.6s\r"
     ]
    },
    {
     "ename": "KeyboardInterrupt",
     "evalue": "",
     "output_type": "error",
     "traceback": [
      "\u001B[1;31m---------------------------------------------------------------------------\u001B[0m",
      "\u001B[1;31mKeyboardInterrupt\u001B[0m                         Traceback (most recent call last)",
      "\u001B[1;32m~\\AppData\\Local\\Temp/ipykernel_11424/2111517894.py\u001B[0m in \u001B[0;36m<module>\u001B[1;34m\u001B[0m\n\u001B[0;32m      2\u001B[0m \u001B[0mprint_every_x_percent\u001B[0m \u001B[1;33m=\u001B[0m \u001B[1;36m0.1\u001B[0m\u001B[1;33m\u001B[0m\u001B[1;33m\u001B[0m\u001B[0m\n\u001B[0;32m      3\u001B[0m \u001B[1;33m\u001B[0m\u001B[0m\n\u001B[1;32m----> 4\u001B[1;33m \u001B[0mmodel\u001B[0m \u001B[1;33m=\u001B[0m \u001B[0mtrainingPhase\u001B[0m\u001B[1;33m(\u001B[0m\u001B[0mmodel\u001B[0m\u001B[1;33m,\u001B[0m \u001B[0mcriterion\u001B[0m\u001B[1;33m,\u001B[0m \u001B[0moptimizer\u001B[0m\u001B[1;33m,\u001B[0m \u001B[0mtrain_loader\u001B[0m\u001B[1;33m,\u001B[0m \u001B[0mnum_epochs\u001B[0m\u001B[1;33m,\u001B[0m \u001B[0mprint_every_x_percent\u001B[0m\u001B[1;33m,\u001B[0m \u001B[0msave_trained_model\u001B[0m\u001B[1;33m,\u001B[0m \u001B[0mdevice\u001B[0m\u001B[1;33m,\u001B[0m \u001B[0mconfusionmatrixdevice\u001B[0m\u001B[1;33m,\u001B[0m \u001B[0mwriter\u001B[0m\u001B[1;33m,\u001B[0m \u001B[0mFILE\u001B[0m\u001B[1;33m,\u001B[0m \u001B[0mall_classes\u001B[0m\u001B[1;33m,\u001B[0m \u001B[0mlabels_start_at\u001B[0m\u001B[1;33m)\u001B[0m\u001B[1;33m\u001B[0m\u001B[1;33m\u001B[0m\u001B[0m\n\u001B[0m",
      "\u001B[1;32m~\\Desktop\\Informatikprojekt\\Informatikprojekt\\HelperFunctions\\HelperPhases.py\u001B[0m in \u001B[0;36mtrainingPhase\u001B[1;34m(model, criterion, optimizer, train_loader, num_epochs, print_every_x_percent, save, device, confusionmatrixdevice, writer, FILE, all_classes, label_start_at)\u001B[0m\n\u001B[0;32m     42\u001B[0m                 \u001B[0mlabels\u001B[0m \u001B[1;33m=\u001B[0m \u001B[0mtorch\u001B[0m\u001B[1;33m.\u001B[0m\u001B[0madd\u001B[0m\u001B[1;33m(\u001B[0m\u001B[0mlabels\u001B[0m\u001B[1;33m,\u001B[0m \u001B[1;33m-\u001B[0m\u001B[1;36m1\u001B[0m\u001B[1;33m)\u001B[0m\u001B[1;33m\u001B[0m\u001B[1;33m\u001B[0m\u001B[0m\n\u001B[0;32m     43\u001B[0m             \u001B[1;31m# Forward pass\u001B[0m\u001B[1;33m\u001B[0m\u001B[1;33m\u001B[0m\u001B[1;33m\u001B[0m\u001B[0m\n\u001B[1;32m---> 44\u001B[1;33m             \u001B[0moutputs\u001B[0m \u001B[1;33m=\u001B[0m \u001B[0mmodel\u001B[0m\u001B[1;33m(\u001B[0m\u001B[0mhsl\u001B[0m\u001B[1;33m.\u001B[0m\u001B[0mto\u001B[0m\u001B[1;33m(\u001B[0m\u001B[0mdevice\u001B[0m\u001B[1;33m)\u001B[0m\u001B[1;33m)\u001B[0m\u001B[1;33m\u001B[0m\u001B[1;33m\u001B[0m\u001B[0m\n\u001B[0m\u001B[0;32m     45\u001B[0m             \u001B[0mlabels\u001B[0m \u001B[1;33m=\u001B[0m \u001B[0mconvertFloatTensorToLongTensor\u001B[0m\u001B[1;33m(\u001B[0m\u001B[0mlabels\u001B[0m\u001B[1;33m)\u001B[0m\u001B[1;33m.\u001B[0m\u001B[0mto\u001B[0m\u001B[1;33m(\u001B[0m\u001B[0mdevice\u001B[0m\u001B[1;33m)\u001B[0m\u001B[1;33m\u001B[0m\u001B[1;33m\u001B[0m\u001B[0m\n\u001B[0;32m     46\u001B[0m             \u001B[0mloss\u001B[0m \u001B[1;33m=\u001B[0m \u001B[0mcriterion\u001B[0m\u001B[1;33m(\u001B[0m\u001B[0moutputs\u001B[0m\u001B[1;33m,\u001B[0m \u001B[0mlabels\u001B[0m\u001B[1;33m)\u001B[0m\u001B[1;33m\u001B[0m\u001B[1;33m\u001B[0m\u001B[0m\n",
      "\u001B[1;32m~\\miniconda3\\envs\\pydml\\lib\\site-packages\\torch\\nn\\modules\\module.py\u001B[0m in \u001B[0;36m_call_impl\u001B[1;34m(self, *input, **kwargs)\u001B[0m\n\u001B[0;32m    887\u001B[0m             \u001B[0mresult\u001B[0m \u001B[1;33m=\u001B[0m \u001B[0mself\u001B[0m\u001B[1;33m.\u001B[0m\u001B[0m_slow_forward\u001B[0m\u001B[1;33m(\u001B[0m\u001B[1;33m*\u001B[0m\u001B[0minput\u001B[0m\u001B[1;33m,\u001B[0m \u001B[1;33m**\u001B[0m\u001B[0mkwargs\u001B[0m\u001B[1;33m)\u001B[0m\u001B[1;33m\u001B[0m\u001B[1;33m\u001B[0m\u001B[0m\n\u001B[0;32m    888\u001B[0m         \u001B[1;32melse\u001B[0m\u001B[1;33m:\u001B[0m\u001B[1;33m\u001B[0m\u001B[1;33m\u001B[0m\u001B[0m\n\u001B[1;32m--> 889\u001B[1;33m             \u001B[0mresult\u001B[0m \u001B[1;33m=\u001B[0m \u001B[0mself\u001B[0m\u001B[1;33m.\u001B[0m\u001B[0mforward\u001B[0m\u001B[1;33m(\u001B[0m\u001B[1;33m*\u001B[0m\u001B[0minput\u001B[0m\u001B[1;33m,\u001B[0m \u001B[1;33m**\u001B[0m\u001B[0mkwargs\u001B[0m\u001B[1;33m)\u001B[0m\u001B[1;33m\u001B[0m\u001B[1;33m\u001B[0m\u001B[0m\n\u001B[0m\u001B[0;32m    890\u001B[0m         for hook in itertools.chain(\n\u001B[0;32m    891\u001B[0m                 \u001B[0m_global_forward_hooks\u001B[0m\u001B[1;33m.\u001B[0m\u001B[0mvalues\u001B[0m\u001B[1;33m(\u001B[0m\u001B[1;33m)\u001B[0m\u001B[1;33m,\u001B[0m\u001B[1;33m\u001B[0m\u001B[1;33m\u001B[0m\u001B[0m\n",
      "\u001B[1;32m~\\Desktop\\Informatikprojekt\\Informatikprojekt\\TextRecognition\\LetterNeuralNet.py\u001B[0m in \u001B[0;36mforward\u001B[1;34m(self, x)\u001B[0m\n\u001B[0;32m     60\u001B[0m         \u001B[1;31m# -> n, 1, 28, 28\u001B[0m\u001B[1;33m\u001B[0m\u001B[1;33m\u001B[0m\u001B[1;33m\u001B[0m\u001B[0m\n\u001B[0;32m     61\u001B[0m         \u001B[0mx\u001B[0m \u001B[1;33m=\u001B[0m \u001B[0mself\u001B[0m\u001B[1;33m.\u001B[0m\u001B[0mpool\u001B[0m\u001B[1;33m(\u001B[0m\u001B[0mF\u001B[0m\u001B[1;33m.\u001B[0m\u001B[0mrelu\u001B[0m\u001B[1;33m(\u001B[0m\u001B[0mself\u001B[0m\u001B[1;33m.\u001B[0m\u001B[0mconv1\u001B[0m\u001B[1;33m(\u001B[0m\u001B[0mx\u001B[0m\u001B[1;33m)\u001B[0m\u001B[1;33m)\u001B[0m\u001B[1;33m)\u001B[0m  \u001B[1;31m# -> n, 6, 12, 12\u001B[0m\u001B[1;33m\u001B[0m\u001B[1;33m\u001B[0m\u001B[0m\n\u001B[1;32m---> 62\u001B[1;33m         \u001B[0mx\u001B[0m \u001B[1;33m=\u001B[0m \u001B[0mself\u001B[0m\u001B[1;33m.\u001B[0m\u001B[0mpool\u001B[0m\u001B[1;33m(\u001B[0m\u001B[0mF\u001B[0m\u001B[1;33m.\u001B[0m\u001B[0mrelu\u001B[0m\u001B[1;33m(\u001B[0m\u001B[0mself\u001B[0m\u001B[1;33m.\u001B[0m\u001B[0mconv2\u001B[0m\u001B[1;33m(\u001B[0m\u001B[0mx\u001B[0m\u001B[1;33m)\u001B[0m\u001B[1;33m)\u001B[0m\u001B[1;33m)\u001B[0m  \u001B[1;31m# -> n, 16, 4, 4\u001B[0m\u001B[1;33m\u001B[0m\u001B[1;33m\u001B[0m\u001B[0m\n\u001B[0m\u001B[0;32m     63\u001B[0m         \u001B[0mx\u001B[0m \u001B[1;33m=\u001B[0m \u001B[0mx\u001B[0m\u001B[1;33m.\u001B[0m\u001B[0mview\u001B[0m\u001B[1;33m(\u001B[0m\u001B[1;33m-\u001B[0m\u001B[1;36m1\u001B[0m\u001B[1;33m,\u001B[0m \u001B[1;36m16\u001B[0m \u001B[1;33m*\u001B[0m \u001B[1;36m4\u001B[0m \u001B[1;33m*\u001B[0m \u001B[1;36m4\u001B[0m\u001B[1;33m)\u001B[0m  \u001B[1;31m# -> n, 256\u001B[0m\u001B[1;33m\u001B[0m\u001B[1;33m\u001B[0m\u001B[0m\n\u001B[0;32m     64\u001B[0m         \u001B[0mx\u001B[0m \u001B[1;33m=\u001B[0m \u001B[0mF\u001B[0m\u001B[1;33m.\u001B[0m\u001B[0mrelu\u001B[0m\u001B[1;33m(\u001B[0m\u001B[0mself\u001B[0m\u001B[1;33m.\u001B[0m\u001B[0mfc1\u001B[0m\u001B[1;33m(\u001B[0m\u001B[0mx\u001B[0m\u001B[1;33m)\u001B[0m\u001B[1;33m)\u001B[0m  \u001B[1;31m# -> n, 120\u001B[0m\u001B[1;33m\u001B[0m\u001B[1;33m\u001B[0m\u001B[0m\n",
      "\u001B[1;32m~\\miniconda3\\envs\\pydml\\lib\\site-packages\\torch\\nn\\functional.py\u001B[0m in \u001B[0;36mrelu\u001B[1;34m(input, inplace)\u001B[0m\n\u001B[0;32m   1204\u001B[0m         \u001B[0mresult\u001B[0m \u001B[1;33m=\u001B[0m \u001B[0mtorch\u001B[0m\u001B[1;33m.\u001B[0m\u001B[0mrelu_\u001B[0m\u001B[1;33m(\u001B[0m\u001B[0minput\u001B[0m\u001B[1;33m)\u001B[0m\u001B[1;33m\u001B[0m\u001B[1;33m\u001B[0m\u001B[0m\n\u001B[0;32m   1205\u001B[0m     \u001B[1;32melse\u001B[0m\u001B[1;33m:\u001B[0m\u001B[1;33m\u001B[0m\u001B[1;33m\u001B[0m\u001B[0m\n\u001B[1;32m-> 1206\u001B[1;33m         \u001B[0mresult\u001B[0m \u001B[1;33m=\u001B[0m \u001B[0mtorch\u001B[0m\u001B[1;33m.\u001B[0m\u001B[0mrelu\u001B[0m\u001B[1;33m(\u001B[0m\u001B[0minput\u001B[0m\u001B[1;33m)\u001B[0m\u001B[1;33m\u001B[0m\u001B[1;33m\u001B[0m\u001B[0m\n\u001B[0m\u001B[0;32m   1207\u001B[0m     \u001B[1;32mreturn\u001B[0m \u001B[0mresult\u001B[0m\u001B[1;33m\u001B[0m\u001B[1;33m\u001B[0m\u001B[0m\n\u001B[0;32m   1208\u001B[0m \u001B[1;33m\u001B[0m\u001B[0m\n",
      "\u001B[1;31mKeyboardInterrupt\u001B[0m: "
     ]
    }
   ],
   "source": [
    "labels_start_at = 1\n",
    "print_every_x_percent = 0.1\n",
    "\n",
    "model = trainingPhase(model, criterion, optimizer, train_loader, num_epochs, print_every_x_percent, save_trained_model, device, confusionmatrixdevice, writer, FILE, all_classes, labels_start_at)"
   ],
   "metadata": {
    "collapsed": false,
    "pycharm": {
     "name": "#%%\n"
    }
   }
  },
  {
   "cell_type": "markdown",
   "source": [
    "### Testing phase\n",
    "* `output_examples_check` is used to determine if an output should be given for displaying all false guessed batches by the model\n",
    "\n",
    "In the testing phase of the model a progress bar with the remaining time is displayed. At the end a confusion matrix is generated for tensor board as well as a plot visible in the outputs."
   ],
   "metadata": {
    "collapsed": false
   }
  },
  {
   "cell_type": "code",
   "execution_count": null,
   "outputs": [],
   "source": [
    "output_examples_check = 0\n",
    "\n",
    "testingPhase(model, test_loader, writer, FILE, all_classes, labels_start_at, confusionmatrixdevice, output_examples_check)"
   ],
   "metadata": {
    "collapsed": false,
    "pycharm": {
     "name": "#%%\n"
    }
   }
  }
 ],
 "metadata": {
  "kernelspec": {
   "display_name": "Python 3",
   "language": "python",
   "name": "python3"
  },
  "language_info": {
   "codemirror_mode": {
    "name": "ipython",
    "version": 2
   },
   "file_extension": ".py",
   "mimetype": "text/x-python",
   "name": "python",
   "nbconvert_exporter": "python",
   "pygments_lexer": "ipython2",
   "version": "2.7.6"
  }
 },
 "nbformat": 4,
 "nbformat_minor": 0
}