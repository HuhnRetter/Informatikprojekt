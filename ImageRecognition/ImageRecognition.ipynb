{
 "cells": [
  {
   "cell_type": "code",
   "execution_count": null,
   "metadata": {
    "collapsed": true
   },
   "outputs": [],
   "source": [
    "import math\n",
    "\n",
    "import matplotlib.pyplot as plt\n",
    "import torch\n",
    "import torchvision.transforms as transforms\n",
    "from torch.utils.data import Dataset\n",
    "from torchvision.datasets import ImageFolder\n",
    "\n",
    "import ImageNeuralNetTransferLearning"
   ]
  },
  {
   "cell_type": "markdown",
   "source": [
    "Settings for the ImageRecognition"
   ],
   "metadata": {
    "collapsed": false
   }
  },
  {
   "cell_type": "code",
   "execution_count": null,
   "outputs": [],
   "source": [
    "# Parameters\n",
    "TESTFOLDER = './testImages'\n",
    "FILENEURALNET = \"LetterNeuralNetNE3BS3LR001ImagenetNeuralNetACC94.pth\"\n",
    "all_classes = [\"dog\", \"flower\", \"other\"]\n",
    "\n",
    "#batch_size must be same as images\n",
    "batch_size = 9"
   ],
   "metadata": {
    "collapsed": false,
    "pycharm": {
     "name": "#%%\n"
    }
   }
  },
  {
   "cell_type": "markdown",
   "source": [
    "setups Dataloader for image input,\n",
    "loads trained model and\n",
    "setups up the plot to display"
   ],
   "metadata": {
    "collapsed": false
   }
  },
  {
   "cell_type": "code",
   "execution_count": null,
   "outputs": [],
   "source": [
    "def setupDatasetLoader():\n",
    "    \"\"\"transforms the test images\n",
    "\n",
    "    :return: returns the data_loader for the test images\n",
    "    \"\"\"\n",
    "    multitransform = transforms.Compose([\n",
    "        transforms.Resize(224),\n",
    "        transforms.CenterCrop(224),\n",
    "        transforms.ToTensor(),\n",
    "        transforms.Normalize(0.5, 0.5, 0.5),\n",
    "    ])\n",
    "    test_dataset = ImageFolder(root=TESTFOLDER, transform=multitransform)\n",
    "    test_loader = torch.utils.data.DataLoader(dataset=test_dataset, batch_size=batch_size, shuffle=True)\n",
    "\n",
    "    return test_loader\n",
    "\n",
    "\n",
    "def setupModel():\n",
    "    \"\"\"loads the model from the given path\n",
    "\n",
    "    :return: returns the loaded model\n",
    "    \"\"\"\n",
    "    model = ImageNeuralNetTransferLearning.neuralNetSetup()\n",
    "    model.load_state_dict(torch.load(FILENEURALNET))\n",
    "    model.eval()\n",
    "    return model\n",
    "\n",
    "\n",
    "def setup():\n",
    "    \"\"\"setups the output format of the test images\n",
    "\n",
    "    :return: returns ax for adding images into the plot and fig for defining the layout\n",
    "    \"\"\"\n",
    "    batch_size_sqrt = int(math.sqrt(batch_size))\n",
    "    fig, ax = plt.subplots(batch_size_sqrt, batch_size_sqrt)\n",
    "    ax = ax.ravel()\n",
    "    return ax, fig"
   ],
   "metadata": {
    "collapsed": false,
    "pycharm": {
     "name": "#%%\n"
    }
   }
  },
  {
   "cell_type": "markdown",
   "source": [
    "function for iterating through the testimages and plotting them on the plot and given each of them the guessed label"
   ],
   "metadata": {
    "collapsed": false
   }
  },
  {
   "cell_type": "code",
   "execution_count": null,
   "outputs": [],
   "source": [
    "def useImageRecognition(test_loader, model, ax, fig):\n",
    "    \"\"\"guesses the classes for the given images\n",
    "\n",
    "    :param test_loader: dataloader for the test images\n",
    "    :param model: trained model for guessing the classes\n",
    "    :param ax: array for the images of type ndarray\n",
    "    :param fig: for defining the layout for example  fig.tight_layout\n",
    "    \"\"\"\n",
    "    with torch.no_grad():\n",
    "        i = 0\n",
    "        for inputs, labels in test_loader:\n",
    "            for image in inputs:\n",
    "                np_array = image.numpy()\n",
    "                np_array = np_array.swapaxes(0, 2)\n",
    "                ax[i].imshow(np_array)\n",
    "                i += 1\n",
    "            i = 0\n",
    "            outputs = model(inputs)\n",
    "            _, predicted = torch.max(outputs.data, 1)\n",
    "            for batchNumber in range(predicted.size(dim=0)):\n",
    "                ax[i].set_title(all_classes[predicted[batchNumber]])\n",
    "                i += 1\n",
    "            fig.tight_layout()\n",
    "            plt.show()"
   ],
   "metadata": {
    "collapsed": false,
    "pycharm": {
     "name": "#%%\n"
    }
   }
  },
  {
   "cell_type": "markdown",
   "source": [
    "main function for executing the ImageRecognition"
   ],
   "metadata": {
    "collapsed": false
   }
  },
  {
   "cell_type": "code",
   "execution_count": null,
   "outputs": [],
   "source": [
    "if __name__ == \"__main__\":\n",
    "    test_loader = setupDatasetLoader()\n",
    "    model = setupModel()\n",
    "    ax, fig = setup()\n",
    "    useImageRecognition(test_loader, model, ax, fig)"
   ],
   "metadata": {
    "collapsed": false,
    "pycharm": {
     "name": "#%%\n"
    }
   }
  }
 ],
 "metadata": {
  "kernelspec": {
   "display_name": "Python 3",
   "language": "python",
   "name": "python3"
  },
  "language_info": {
   "codemirror_mode": {
    "name": "ipython",
    "version": 2
   },
   "file_extension": ".py",
   "mimetype": "text/x-python",
   "name": "python",
   "nbconvert_exporter": "python",
   "pygments_lexer": "ipython2",
   "version": "2.7.6"
  }
 },
 "nbformat": 4,
 "nbformat_minor": 0
}