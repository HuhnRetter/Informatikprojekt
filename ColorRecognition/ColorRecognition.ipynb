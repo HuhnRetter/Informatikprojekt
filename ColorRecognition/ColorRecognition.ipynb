{
 "cells": [
  {
   "cell_type": "code",
   "execution_count": null,
   "metadata": {
    "collapsed": true
   },
   "outputs": [],
   "source": [
    "import cv2\n",
    "import numpy as np\n",
    "import torch\n",
    "\n",
    "import ColorNeuralNet"
   ]
  },
  {
   "cell_type": "markdown",
   "source": [
    "settings for the color recognition"
   ],
   "metadata": {
    "collapsed": false
   }
  },
  {
   "cell_type": "code",
   "execution_count": null,
   "outputs": [],
   "source": [
    "#initialize global variables\n",
    "############################\n",
    "mouseX = 0\n",
    "mouseY = 0\n",
    "all_classes = [\"WHITE\", \"RED\", \"GREEN\", \"OTHER\"]\n",
    "############################\n",
    "\n",
    "# NeuralNetSettings\n",
    "############################\n",
    "\n",
    "FILECOLORTEST = \"color_test2.jpg\"\n",
    "\n",
    "# FILE = \"ColorNeuralNetHS25NE10BS10HLSACC9075.pth\"\n",
    "# FILE = \"ColorNeuralNetHS25NE1500HLSACC8775.pth\"\n",
    "FILE = \"ColorNeuralNetHS25NE150BS4LR0001HLS.pth\"\n",
    "input_size = 2\n",
    "hidden_size = 25\n",
    "num_classes = 4\n",
    "############################"
   ],
   "metadata": {
    "collapsed": false,
    "pycharm": {
     "name": "#%%\n"
    }
   }
  },
  {
   "cell_type": "markdown",
   "source": [
    "helper function for determining the mouse position"
   ],
   "metadata": {
    "collapsed": false
   }
  },
  {
   "cell_type": "code",
   "execution_count": null,
   "outputs": [],
   "source": [
    "def get_MousePos(event, x, y, flags, param):\n",
    "    \"\"\"gets the current Mouse Position after left click\n",
    "\n",
    "    :param event: current event from mouse of type cv2.EVENT_...\n",
    "    :param x: current x position of mouse\n",
    "    :param y: current y position of mouse\n",
    "    :param flags: not being used but needs to be given\n",
    "    :param param: not being used but needs to be given\n",
    "    \"\"\"\n",
    "    global mouseX, mouseY\n",
    "    if event == cv2.EVENT_LBUTTONUP:\n",
    "        mouseX, mouseY = x, y"
   ],
   "metadata": {
    "collapsed": false,
    "pycharm": {
     "name": "#%%\n"
    }
   }
  },
  {
   "cell_type": "markdown",
   "source": [
    "reading the image and loading the trained model"
   ],
   "metadata": {
    "collapsed": false
   }
  },
  {
   "cell_type": "code",
   "execution_count": null,
   "outputs": [],
   "source": [
    "def setup():\n",
    "    img = cv2.imread(FILECOLORTEST)\n",
    "    cv2.namedWindow('image')\n",
    "    cv2.setMouseCallback('image', get_MousePos)\n",
    "    showImage(img, setupModel())\n",
    "\n",
    "\n",
    "def setupModel():\n",
    "    \"\"\"loads the model from the given path\n",
    "\n",
    "    :return: returns the loaded model of type ColorNeuralNet.NeuralNet\n",
    "    \"\"\"\n",
    "    model = ColorNeuralNet.NeuralNet(input_size, hidden_size, num_classes)\n",
    "    model.load_state_dict(torch.load(FILE))\n",
    "    model.eval()\n",
    "    return model"
   ],
   "metadata": {
    "collapsed": false,
    "pycharm": {
     "name": "#%%\n"
    }
   }
  },
  {
   "cell_type": "markdown",
   "source": [
    "both of the ways to determine the color\n",
    "\n",
    "one of them uses predetermined values and the other one uses the determined values of the trained model"
   ],
   "metadata": {
    "collapsed": false
   }
  },
  {
   "cell_type": "code",
   "execution_count": null,
   "outputs": [],
   "source": [
    "def autoColorPicker(outputs):\n",
    "    \"\"\"uses class_id from output to get guessed color as a String\n",
    "\n",
    "    :param outputs: outputs from the model of type tensor\n",
    "    :return: returns guessed color as a string\n",
    "    \"\"\"\n",
    "    predicted = torch.argmax(outputs, 0)\n",
    "    return all_classes[predicted]\n",
    "\n",
    "\n",
    "def autoColorSelectHL(hue_value, light_value, model):\n",
    "    \"\"\"uses the model to guess a color\n",
    "\n",
    "    first normalizes the hue and light_value,\n",
    "    then converts it to a tensor and inputs it to autoColorPicker for return String\n",
    "\n",
    "    :param hue_value: hue_value from the given pixel\n",
    "    :param light_value: light_value from the given pixel\n",
    "    :param model: fully trained model of type ColorNeuralNet.NeuralNet\n",
    "    :return: returns a String with the guessed Color\n",
    "    \"\"\"\n",
    "    inputData = [[hue_value / 180], [light_value / 255]]\n",
    "    inputArray = np.array(inputData, dtype=np.float32)\n",
    "    floatTensor = torch.from_numpy(inputArray)\n",
    "    # Axis correction\n",
    "    inputTensor = floatTensor.view(2)\n",
    "    with torch.no_grad():\n",
    "        outputs = model(inputTensor)\n",
    "    return autoColorPicker(outputs)\n",
    "\n",
    "\n",
    "def manuelColorSelect(hue_value, light_value):\n",
    "    \"\"\"uses preconfigured parameters to determine color\n",
    "\n",
    "    :param hue_value: hue_value from the given pixel\n",
    "    :param light_value: light_value from the given pixel\n",
    "    :return: returns String with the color\n",
    "    \"\"\"\n",
    "    if (light_value > 229):\n",
    "        return \"WHITE\"\n",
    "    elif (hue_value < 5):\n",
    "        return \"RED\"\n",
    "    elif (hue_value < 22):\n",
    "        return \"ORANGE\"\n",
    "    elif (hue_value < 33):\n",
    "        return \"YELLOW\"\n",
    "    elif (hue_value < 78):\n",
    "        return \"GREEN\"\n",
    "    elif (hue_value < 131):\n",
    "        return \"BLUE\"\n",
    "    elif (hue_value < 170):\n",
    "        return \"VIOLET\"\n",
    "    else:\n",
    "        return \"RED\""
   ],
   "metadata": {
    "collapsed": false,
    "pycharm": {
     "name": "#%%\n"
    }
   }
  },
  {
   "cell_type": "markdown",
   "source": [
    "function for showing the image with the guessed colors in each corners at the top"
   ],
   "metadata": {
    "collapsed": false
   }
  },
  {
   "cell_type": "code",
   "execution_count": null,
   "outputs": [],
   "source": [
    "def showImage(img, model):\n",
    "    \"\"\"shows automatic and manuel Color Recognition outputs on the given image\n",
    "\n",
    "    :param img: test image for Color Recognition of type numpy.ndarray\n",
    "    :param model: fully trained model of type ColorNeuralNet.NeuralNet\n",
    "    \"\"\"\n",
    "\n",
    "    height, width, _ = img.shape\n",
    "    while (1):\n",
    "        cv2.imshow('image', img)\n",
    "\n",
    "        hls_frame = cv2.cvtColor(img, cv2.COLOR_BGR2HLS)\n",
    "\n",
    "        current_pixel = hls_frame[mouseY, mouseX]\n",
    "        hue_value = current_pixel[0]\n",
    "        light_value = current_pixel[1]\n",
    "\n",
    "        manuelColor = manuelColorSelect(hue_value, light_value)\n",
    "        autoColor = autoColorSelectHL(hue_value, light_value, model)\n",
    "\n",
    "        k = cv2.waitKey(1) & 0xFF\n",
    "        if k == 27:\n",
    "            break\n",
    "\n",
    "        current_pixel_bgr = img[mouseY, mouseX]\n",
    "        b, g, r = int(current_pixel_bgr[0]), int(current_pixel_bgr[1]), int(current_pixel_bgr[2])\n",
    "\n",
    "        cv2.rectangle(img, (0, 0), (110, 40), (0, 0, 0), -1)\n",
    "        cv2.putText(img, autoColor, (0, 30), 0, 1, (b, g, r), 2)\n",
    "\n",
    "        cv2.rectangle(img, (width-130, 0), (width, 40), (0, 0, 0), -1)\n",
    "        cv2.putText(img, manuelColor, (width-130, 30), 0, 1, (b, g, r), 2)"
   ],
   "metadata": {
    "collapsed": false,
    "pycharm": {
     "name": "#%%\n"
    }
   }
  },
  {
   "cell_type": "code",
   "execution_count": null,
   "outputs": [],
   "source": [
    "if __name__ == \"__main__\":\n",
    "    setup()"
   ],
   "metadata": {
    "collapsed": false,
    "pycharm": {
     "name": "#%%\n"
    }
   }
  }
 ],
 "metadata": {
  "kernelspec": {
   "display_name": "Python 3",
   "language": "python",
   "name": "python3"
  },
  "language_info": {
   "codemirror_mode": {
    "name": "ipython",
    "version": 2
   },
   "file_extension": ".py",
   "mimetype": "text/x-python",
   "name": "python",
   "nbconvert_exporter": "python",
   "pygments_lexer": "ipython2",
   "version": "2.7.6"
  }
 },
 "nbformat": 4,
 "nbformat_minor": 0
}